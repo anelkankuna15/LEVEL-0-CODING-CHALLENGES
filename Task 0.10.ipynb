{
 "cells": [
  {
   "cell_type": "code",
   "execution_count": 1,
   "id": "f4ee48ab",
   "metadata": {},
   "outputs": [],
   "source": [
    "import warnings\n",
    "warnings.filterwarnings(\"ignore\")\n",
    "import io\n",
    "import pandas as pd\n",
    "import matplotlib.pyplot as plt"
   ]
  },
  {
   "cell_type": "code",
   "execution_count": 12,
   "id": "f27496b9",
   "metadata": {},
   "outputs": [
    {
     "name": "stdout",
     "output_type": "stream",
     "text": [
      "{'m', 'I', ' ', 'o', 'e', 'i'}\n"
     ]
    }
   ],
   "source": [
    "def common():\n",
    "    string1 = \"I love Umuzi\"\n",
    "    string2 = \"I am starting to get the hang of this python is awesome\"\n",
    "    a1 = set(string1)\n",
    "    a2 = set(string2)\n",
    "    common_letters = a1 & a2\n",
    "    print(a1 & a2)\n",
    "\n",
    "common()"
   ]
  },
  {
   "cell_type": "code",
   "execution_count": null,
   "id": "59b6d5f0",
   "metadata": {},
   "outputs": [],
   "source": []
  }
 ],
 "metadata": {
  "kernelspec": {
   "display_name": "Python 3 (ipykernel)",
   "language": "python",
   "name": "python3"
  },
  "language_info": {
   "codemirror_mode": {
    "name": "ipython",
    "version": 3
   },
   "file_extension": ".py",
   "mimetype": "text/x-python",
   "name": "python",
   "nbconvert_exporter": "python",
   "pygments_lexer": "ipython3",
   "version": "3.9.7"
  }
 },
 "nbformat": 4,
 "nbformat_minor": 5
}
