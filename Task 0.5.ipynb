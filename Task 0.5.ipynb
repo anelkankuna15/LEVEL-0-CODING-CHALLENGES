{
 "cells": [
  {
   "cell_type": "code",
   "execution_count": 10,
   "id": "7656a278",
   "metadata": {},
   "outputs": [],
   "source": [
    "import warnings\n",
    "warnings.filterwarnings(\"ignore\")\n",
    "import io\n",
    "import pandas as pd\n",
    "import matplotlib.pyplot as plt"
   ]
  },
  {
   "cell_type": "code",
   "execution_count": 12,
   "id": "87eb8592",
   "metadata": {},
   "outputs": [
    {
     "name": "stdout",
     "output_type": "stream",
     "text": [
      "The first side value: 5\n",
      "The second side value: 5\n",
      "The third side value: 6\n",
      "The area of the triangle is 12.00\n"
     ]
    }
   ],
   "source": [
    "# My Program to find the area of triangle\n",
    "\n",
    "n = 5\n",
    "v = 6\n",
    "w = 7\n",
    "\n",
    "# Uncomment below to take inputs from the user\n",
    "n = float(input('The first side value: '))\n",
    "v = float(input('The second side value: '))\n",
    "w = float(input('The third side value: '))\n",
    "\n",
    "# My program to calculate the semi-perimeter of the triangle\n",
    "s = (n + v + w) / 2\n",
    "\n",
    "# My program to calculate the area of the triangle\n",
    "area = (s*(s-n)*(s-v)*(s-w)) ** 0.5\n",
    "print('The area of the triangle is %0.2f' %area)"
   ]
  },
  {
   "cell_type": "code",
   "execution_count": null,
   "id": "5745c92e",
   "metadata": {},
   "outputs": [],
   "source": []
  }
 ],
 "metadata": {
  "kernelspec": {
   "display_name": "Python 3 (ipykernel)",
   "language": "python",
   "name": "python3"
  },
  "language_info": {
   "codemirror_mode": {
    "name": "ipython",
    "version": 3
   },
   "file_extension": ".py",
   "mimetype": "text/x-python",
   "name": "python",
   "nbconvert_exporter": "python",
   "pygments_lexer": "ipython3",
   "version": "3.9.7"
  }
 },
 "nbformat": 4,
 "nbformat_minor": 5
}
