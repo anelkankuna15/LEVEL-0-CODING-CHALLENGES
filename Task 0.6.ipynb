{
 "cells": [
  {
   "cell_type": "code",
   "execution_count": 1,
   "id": "dcd51c58",
   "metadata": {},
   "outputs": [],
   "source": [
    "import warnings\n",
    "warnings.filterwarnings(\"ignore\")\n",
    "import io\n",
    "import pandas as pd\n",
    "import matplotlib.pyplot as plt"
   ]
  },
  {
   "cell_type": "code",
   "execution_count": 3,
   "id": "3b44bb06",
   "metadata": {},
   "outputs": [
    {
     "name": "stdout",
     "output_type": "stream",
     "text": [
      "input value n:34\n",
      "input value v:50\n",
      "input value w:24\n",
      "The largest number between the three values= 50\n"
     ]
    }
   ],
   "source": [
    "def max(n,v,w):\n",
    "\n",
    "    if (n>v and n>w):\n",
    "\n",
    "        return n\n",
    "\n",
    "    elif(v>w):\n",
    "\n",
    "        return v\n",
    "\n",
    "    else:\n",
    "\n",
    "        return w\n",
    "\n",
    "n=int(input('input value n:'))\n",
    "\n",
    "v=int(input('input value v:'))\n",
    "\n",
    "w=int(input('input value w:'))\n",
    "\n",
    "ans=max(n,v,w)\n",
    "\n",
    "print('The largest number between the three values=', ans)"
   ]
  },
  {
   "cell_type": "code",
   "execution_count": null,
   "id": "2fba53b9",
   "metadata": {},
   "outputs": [],
   "source": []
  }
 ],
 "metadata": {
  "kernelspec": {
   "display_name": "Python 3 (ipykernel)",
   "language": "python",
   "name": "python3"
  },
  "language_info": {
   "codemirror_mode": {
    "name": "ipython",
    "version": 3
   },
   "file_extension": ".py",
   "mimetype": "text/x-python",
   "name": "python",
   "nbconvert_exporter": "python",
   "pygments_lexer": "ipython3",
   "version": "3.9.7"
  }
 },
 "nbformat": 4,
 "nbformat_minor": 5
}
