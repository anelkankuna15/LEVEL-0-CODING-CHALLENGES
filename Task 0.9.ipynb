{
 "cells": [
  {
   "cell_type": "code",
   "execution_count": 1,
   "id": "7affab4e",
   "metadata": {},
   "outputs": [],
   "source": [
    "import warnings\n",
    "warnings.filterwarnings(\"ignore\")\n",
    "import io\n",
    "import pandas as pd\n",
    "import matplotlib.pyplot as plt"
   ]
  },
  {
   "cell_type": "code",
   "execution_count": 3,
   "id": "fa263184",
   "metadata": {},
   "outputs": [
    {
     "name": "stdout",
     "output_type": "stream",
     "text": [
      "Enter any string: AnelkaAshleyNkuna\n",
      "A, e, a, A, e, u, a, "
     ]
    },
    {
     "data": {
      "text/plain": [
       "'a'"
      ]
     },
     "execution_count": 3,
     "metadata": {},
     "output_type": "execute_result"
    }
   ],
   "source": [
    "# My python program to print vowels in a string below;\n",
    "\n",
    "def printVowels(string):\n",
    "    # program to print vowels in a string\n",
    "    for char in string:\n",
    "        if char in \"aeiouAEIOU\":\n",
    "            print(char, end=', ')\n",
    "    return char\n",
    "\n",
    "# take the input to print vowels in a string\n",
    "string = input('Enter any string: ')\n",
    "\n",
    "# calling the function to print the vowels in a string\n",
    "printVowels(string)"
   ]
  },
  {
   "cell_type": "code",
   "execution_count": null,
   "id": "bb58d3cd",
   "metadata": {},
   "outputs": [],
   "source": []
  }
 ],
 "metadata": {
  "kernelspec": {
   "display_name": "Python 3 (ipykernel)",
   "language": "python",
   "name": "python3"
  },
  "language_info": {
   "codemirror_mode": {
    "name": "ipython",
    "version": 3
   },
   "file_extension": ".py",
   "mimetype": "text/x-python",
   "name": "python",
   "nbconvert_exporter": "python",
   "pygments_lexer": "ipython3",
   "version": "3.9.7"
  }
 },
 "nbformat": 4,
 "nbformat_minor": 5
}
